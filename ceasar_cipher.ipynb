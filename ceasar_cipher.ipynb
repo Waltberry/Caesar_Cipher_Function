{
  "nbformat": 4,
  "nbformat_minor": 0,
  "metadata": {
    "colab": {
      "name": "ceasar-cipher.ipynb",
      "provenance": [],
      "authorship_tag": "ABX9TyPLAvgRHb8cYvZ7paka7+S0",
      "include_colab_link": true
    },
    "kernelspec": {
      "name": "python3",
      "display_name": "Python 3"
    },
    "language_info": {
      "name": "python"
    }
  },
  "cells": [
    {
      "cell_type": "markdown",
      "metadata": {
        "id": "view-in-github",
        "colab_type": "text"
      },
      "source": [
        "<a href=\"https://colab.research.google.com/github/Waltberry/Caesar_Cipher_Function/blob/main/ceasar_cipher.ipynb\" target=\"_parent\"><img src=\"https://colab.research.google.com/assets/colab-badge.svg\" alt=\"Open In Colab\"/></a>"
      ]
    },
    {
      "cell_type": "markdown",
      "metadata": {
        "id": "m7ntVnT2jkZ1"
      },
      "source": [
        ""
      ]
    },
    {
      "cell_type": "markdown",
      "metadata": {
        "id": "vyhMiha_qF1H"
      },
      "source": [
        "Ceasar Cipher is one of the simplest and most widely known encryption techniques. \n",
        "It is a type of substitution cipher in which each letter in the plaintext is replaced by a letter some fixed number of positions down the alphabet."
      ]
    },
    {
      "cell_type": "code",
      "metadata": {
        "id": "-XGXT8KbmAAE"
      },
      "source": [
        "\"\"\"\n",
        "Created on Sun Nov 2021\n",
        "\n",
        "@author: Walt\n",
        "\"\"\"\n",
        "\n",
        "# English alphabets\n",
        "alphabet = 'abcdefghijklmnopqrstuvwxyz'\n",
        "\n",
        "def shift_amount(i):\n",
        "    ''' This ensures that the encoding starts from the beginning if the cipher index is high enough for the words to leave the alphabet range'''\n",
        "    return i%26\n",
        "\n",
        "def cipher(text,cipher_index):\n",
        "    ''' This function encrypts and decrypts any string within the alphabet range, \n",
        "    it doesn't take note of non-alphabetical characters, it returns it. \n",
        "    '''\n",
        "    out_string = ''\n",
        "    text = text.lower()\n",
        "    for char in text:\n",
        "        if char not in alphabet:\n",
        "            out_string = out_string + char\n",
        "        else:    \n",
        "            alpha_index = alphabet.find(char)\n",
        "            out_string = out_string + alphabet[shift_amount(alpha_index +cipher_index)]\n",
        "    return out_string\n"
      ],
      "execution_count": 10,
      "outputs": []
    }
  ]
}